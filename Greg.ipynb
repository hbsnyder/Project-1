{
 "cells": [
  {
   "cell_type": "code",
   "execution_count": 36,
   "id": "e7bf9225",
   "metadata": {},
   "outputs": [],
   "source": [
    "import matplotlib.pyplot as plt\n",
    "import pandas as pd\n",
    "import numpy as np"
   ]
  },
  {
   "cell_type": "code",
   "execution_count": 37,
   "id": "a9ac69b7",
   "metadata": {},
   "outputs": [],
   "source": [
    "games = pd.read_csv('Clean/games_clean.csv')\n",
    "players = pd.read_csv('Clean/players_clean.csv')\n",
    "teams = pd.read_csv('Clean/teams_clean.csv')\n",
    "ranking = pd.read_csv('Clean/ranking_clean.csv')\n",
    "games_details = pd.read_csv('Clean/games_details_clean.csv')"
   ]
  },
  {
   "cell_type": "code",
   "execution_count": 38,
   "id": "18b77ebb",
   "metadata": {},
   "outputs": [],
   "source": [
    "ranking = ranking[ranking.Games == 82]"
   ]
  },
  {
   "cell_type": "code",
   "execution_count": 39,
   "id": "f59c138d",
   "metadata": {
    "scrolled": true
   },
   "outputs": [
    {
     "data": {
      "text/html": [
       "<div>\n",
       "<style scoped>\n",
       "    .dataframe tbody tr th:only-of-type {\n",
       "        vertical-align: middle;\n",
       "    }\n",
       "\n",
       "    .dataframe tbody tr th {\n",
       "        vertical-align: top;\n",
       "    }\n",
       "\n",
       "    .dataframe thead th {\n",
       "        text-align: right;\n",
       "    }\n",
       "</style>\n",
       "<table border=\"1\" class=\"dataframe\">\n",
       "  <thead>\n",
       "    <tr style=\"text-align: right;\">\n",
       "      <th></th>\n",
       "      <th>Unnamed: 0</th>\n",
       "      <th>Team ID</th>\n",
       "      <th>Team Abbr</th>\n",
       "      <th>City</th>\n",
       "      <th>Player ID</th>\n",
       "      <th>Position</th>\n",
       "      <th>Minutes</th>\n",
       "      <th>Field Goals Made</th>\n",
       "      <th>Field Goals Attempted</th>\n",
       "      <th>Field Goals %</th>\n",
       "      <th>3 Pt Field Goals Made</th>\n",
       "      <th>3 Pt Field Goals Attempted</th>\n",
       "      <th>3 Pt Field Goals %</th>\n",
       "      <th>Free Throws Made</th>\n",
       "      <th>Free Throws Attempted</th>\n",
       "      <th>Free Throws %</th>\n",
       "      <th>Rebounds</th>\n",
       "      <th>Assists</th>\n",
       "      <th>Personal Fouls</th>\n",
       "      <th>Points</th>\n",
       "    </tr>\n",
       "  </thead>\n",
       "  <tbody>\n",
       "    <tr>\n",
       "      <th>0</th>\n",
       "      <td>0</td>\n",
       "      <td>1610612764</td>\n",
       "      <td>WAS</td>\n",
       "      <td>Washington</td>\n",
       "      <td>203078</td>\n",
       "      <td>F</td>\n",
       "      <td>34:36:00</td>\n",
       "      <td>14.0</td>\n",
       "      <td>28.0</td>\n",
       "      <td>0.500</td>\n",
       "      <td>1.0</td>\n",
       "      <td>6.0</td>\n",
       "      <td>0.167</td>\n",
       "      <td>4.0</td>\n",
       "      <td>6.0</td>\n",
       "      <td>0.667</td>\n",
       "      <td>4.0</td>\n",
       "      <td>3.0</td>\n",
       "      <td>0.0</td>\n",
       "      <td>33.0</td>\n",
       "    </tr>\n",
       "    <tr>\n",
       "      <th>1</th>\n",
       "      <td>1</td>\n",
       "      <td>1610612764</td>\n",
       "      <td>WAS</td>\n",
       "      <td>Washington</td>\n",
       "      <td>1629060</td>\n",
       "      <td>F</td>\n",
       "      <td>25:50:00</td>\n",
       "      <td>4.0</td>\n",
       "      <td>6.0</td>\n",
       "      <td>0.667</td>\n",
       "      <td>1.0</td>\n",
       "      <td>1.0</td>\n",
       "      <td>1.000</td>\n",
       "      <td>2.0</td>\n",
       "      <td>3.0</td>\n",
       "      <td>0.667</td>\n",
       "      <td>7.0</td>\n",
       "      <td>1.0</td>\n",
       "      <td>4.0</td>\n",
       "      <td>11.0</td>\n",
       "    </tr>\n",
       "    <tr>\n",
       "      <th>2</th>\n",
       "      <td>2</td>\n",
       "      <td>1610612764</td>\n",
       "      <td>WAS</td>\n",
       "      <td>Washington</td>\n",
       "      <td>203458</td>\n",
       "      <td>C</td>\n",
       "      <td>12:11</td>\n",
       "      <td>3.0</td>\n",
       "      <td>5.0</td>\n",
       "      <td>0.600</td>\n",
       "      <td>0.0</td>\n",
       "      <td>0.0</td>\n",
       "      <td>0.000</td>\n",
       "      <td>0.0</td>\n",
       "      <td>0.0</td>\n",
       "      <td>0.000</td>\n",
       "      <td>5.0</td>\n",
       "      <td>0.0</td>\n",
       "      <td>2.0</td>\n",
       "      <td>6.0</td>\n",
       "    </tr>\n",
       "    <tr>\n",
       "      <th>3</th>\n",
       "      <td>3</td>\n",
       "      <td>1610612764</td>\n",
       "      <td>WAS</td>\n",
       "      <td>Washington</td>\n",
       "      <td>203526</td>\n",
       "      <td>G</td>\n",
       "      <td>19:19</td>\n",
       "      <td>2.0</td>\n",
       "      <td>5.0</td>\n",
       "      <td>0.400</td>\n",
       "      <td>0.0</td>\n",
       "      <td>2.0</td>\n",
       "      <td>0.000</td>\n",
       "      <td>0.0</td>\n",
       "      <td>0.0</td>\n",
       "      <td>0.000</td>\n",
       "      <td>3.0</td>\n",
       "      <td>1.0</td>\n",
       "      <td>2.0</td>\n",
       "      <td>4.0</td>\n",
       "    </tr>\n",
       "    <tr>\n",
       "      <th>4</th>\n",
       "      <td>4</td>\n",
       "      <td>1610612764</td>\n",
       "      <td>WAS</td>\n",
       "      <td>Washington</td>\n",
       "      <td>201566</td>\n",
       "      <td>G</td>\n",
       "      <td>29:07:00</td>\n",
       "      <td>2.0</td>\n",
       "      <td>10.0</td>\n",
       "      <td>0.200</td>\n",
       "      <td>0.0</td>\n",
       "      <td>3.0</td>\n",
       "      <td>0.000</td>\n",
       "      <td>6.0</td>\n",
       "      <td>10.0</td>\n",
       "      <td>0.600</td>\n",
       "      <td>6.0</td>\n",
       "      <td>11.0</td>\n",
       "      <td>0.0</td>\n",
       "      <td>10.0</td>\n",
       "    </tr>\n",
       "  </tbody>\n",
       "</table>\n",
       "</div>"
      ],
      "text/plain": [
       "   Unnamed: 0     Team ID Team Abbr        City  Player ID Position   Minutes  \\\n",
       "0           0  1610612764       WAS  Washington     203078        F  34:36:00   \n",
       "1           1  1610612764       WAS  Washington    1629060        F  25:50:00   \n",
       "2           2  1610612764       WAS  Washington     203458        C     12:11   \n",
       "3           3  1610612764       WAS  Washington     203526        G     19:19   \n",
       "4           4  1610612764       WAS  Washington     201566        G  29:07:00   \n",
       "\n",
       "   Field Goals Made  Field Goals Attempted  Field Goals %  \\\n",
       "0              14.0                   28.0          0.500   \n",
       "1               4.0                    6.0          0.667   \n",
       "2               3.0                    5.0          0.600   \n",
       "3               2.0                    5.0          0.400   \n",
       "4               2.0                   10.0          0.200   \n",
       "\n",
       "   3 Pt Field Goals Made  3 Pt Field Goals Attempted  3 Pt Field Goals %  \\\n",
       "0                    1.0                         6.0               0.167   \n",
       "1                    1.0                         1.0               1.000   \n",
       "2                    0.0                         0.0               0.000   \n",
       "3                    0.0                         2.0               0.000   \n",
       "4                    0.0                         3.0               0.000   \n",
       "\n",
       "   Free Throws Made  Free Throws Attempted  Free Throws %  Rebounds  Assists  \\\n",
       "0               4.0                    6.0          0.667       4.0      3.0   \n",
       "1               2.0                    3.0          0.667       7.0      1.0   \n",
       "2               0.0                    0.0          0.000       5.0      0.0   \n",
       "3               0.0                    0.0          0.000       3.0      1.0   \n",
       "4               6.0                   10.0          0.600       6.0     11.0   \n",
       "\n",
       "   Personal Fouls  Points  \n",
       "0             0.0    33.0  \n",
       "1             4.0    11.0  \n",
       "2             2.0     6.0  \n",
       "3             2.0     4.0  \n",
       "4             0.0    10.0  "
      ]
     },
     "execution_count": 39,
     "metadata": {},
     "output_type": "execute_result"
    }
   ],
   "source": [
    "games_details.head()"
   ]
  },
  {
   "cell_type": "code",
   "execution_count": 40,
   "id": "d871d346",
   "metadata": {},
   "outputs": [
    {
     "data": {
      "text/plain": [
       "Index(['Unnamed: 0', 'Team ID', 'Conference', 'Team', 'Games', 'Wins',\n",
       "       'Losses', 'Wins %', 'Record Home', 'Record Away'],\n",
       "      dtype='object')"
      ]
     },
     "execution_count": 40,
     "metadata": {},
     "output_type": "execute_result"
    }
   ],
   "source": [
    "ranking.columns"
   ]
  },
  {
   "cell_type": "code",
   "execution_count": 41,
   "id": "38cb1033",
   "metadata": {},
   "outputs": [],
   "source": [
    "df = ranking[['Team','Wins','Losses']]"
   ]
  },
  {
   "cell_type": "code",
   "execution_count": 42,
   "id": "60f134d5",
   "metadata": {},
   "outputs": [],
   "source": [
    "df1 = df.drop_duplicates()"
   ]
  },
  {
   "cell_type": "code",
   "execution_count": 43,
   "id": "5d38cb87",
   "metadata": {},
   "outputs": [
    {
     "data": {
      "text/html": [
       "<div>\n",
       "<style scoped>\n",
       "    .dataframe tbody tr th:only-of-type {\n",
       "        vertical-align: middle;\n",
       "    }\n",
       "\n",
       "    .dataframe tbody tr th {\n",
       "        vertical-align: top;\n",
       "    }\n",
       "\n",
       "    .dataframe thead th {\n",
       "        text-align: right;\n",
       "    }\n",
       "</style>\n",
       "<table border=\"1\" class=\"dataframe\">\n",
       "  <thead>\n",
       "    <tr style=\"text-align: right;\">\n",
       "      <th></th>\n",
       "      <th>Team</th>\n",
       "      <th>Wins</th>\n",
       "      <th>Losses</th>\n",
       "    </tr>\n",
       "  </thead>\n",
       "  <tbody>\n",
       "    <tr>\n",
       "      <th>16259</th>\n",
       "      <td>San Antonio</td>\n",
       "      <td>62</td>\n",
       "      <td>20</td>\n",
       "    </tr>\n",
       "    <tr>\n",
       "      <th>16260</th>\n",
       "      <td>Oklahoma City</td>\n",
       "      <td>59</td>\n",
       "      <td>23</td>\n",
       "    </tr>\n",
       "    <tr>\n",
       "      <th>16261</th>\n",
       "      <td>L.A. Clippers</td>\n",
       "      <td>57</td>\n",
       "      <td>25</td>\n",
       "    </tr>\n",
       "    <tr>\n",
       "      <th>16262</th>\n",
       "      <td>Houston</td>\n",
       "      <td>54</td>\n",
       "      <td>28</td>\n",
       "    </tr>\n",
       "    <tr>\n",
       "      <th>16263</th>\n",
       "      <td>Portland</td>\n",
       "      <td>54</td>\n",
       "      <td>28</td>\n",
       "    </tr>\n",
       "    <tr>\n",
       "      <th>...</th>\n",
       "      <td>...</td>\n",
       "      <td>...</td>\n",
       "      <td>...</td>\n",
       "    </tr>\n",
       "    <tr>\n",
       "      <th>187159</th>\n",
       "      <td>Brooklyn</td>\n",
       "      <td>38</td>\n",
       "      <td>44</td>\n",
       "    </tr>\n",
       "    <tr>\n",
       "      <th>187160</th>\n",
       "      <td>Indiana</td>\n",
       "      <td>38</td>\n",
       "      <td>44</td>\n",
       "    </tr>\n",
       "    <tr>\n",
       "      <th>187161</th>\n",
       "      <td>Miami</td>\n",
       "      <td>37</td>\n",
       "      <td>45</td>\n",
       "    </tr>\n",
       "    <tr>\n",
       "      <th>187163</th>\n",
       "      <td>Detroit</td>\n",
       "      <td>32</td>\n",
       "      <td>50</td>\n",
       "    </tr>\n",
       "    <tr>\n",
       "      <th>187165</th>\n",
       "      <td>Philadelphia</td>\n",
       "      <td>18</td>\n",
       "      <td>64</td>\n",
       "    </tr>\n",
       "  </tbody>\n",
       "</table>\n",
       "<p>408 rows × 3 columns</p>\n",
       "</div>"
      ],
      "text/plain": [
       "                 Team  Wins  Losses\n",
       "16259     San Antonio    62      20\n",
       "16260   Oklahoma City    59      23\n",
       "16261   L.A. Clippers    57      25\n",
       "16262         Houston    54      28\n",
       "16263        Portland    54      28\n",
       "...               ...   ...     ...\n",
       "187159       Brooklyn    38      44\n",
       "187160        Indiana    38      44\n",
       "187161          Miami    37      45\n",
       "187163        Detroit    32      50\n",
       "187165   Philadelphia    18      64\n",
       "\n",
       "[408 rows x 3 columns]"
      ]
     },
     "execution_count": 43,
     "metadata": {},
     "output_type": "execute_result"
    }
   ],
   "source": [
    "df1"
   ]
  },
  {
   "cell_type": "code",
   "execution_count": 44,
   "id": "d9086c46",
   "metadata": {},
   "outputs": [],
   "source": [
    "import time"
   ]
  },
  {
   "cell_type": "code",
   "execution_count": 45,
   "id": "a50c59ab",
   "metadata": {},
   "outputs": [
    {
     "data": {
      "text/plain": [
       "'Fri Jan  2 16:54:27 1970'"
      ]
     },
     "execution_count": 45,
     "metadata": {},
     "output_type": "execute_result"
    }
   ],
   "source": [
    "time.ctime(165267)"
   ]
  },
  {
   "cell_type": "code",
   "execution_count": 46,
   "id": "4f7e6eeb",
   "metadata": {},
   "outputs": [
    {
     "data": {
      "text/html": [
       "<div>\n",
       "<style scoped>\n",
       "    .dataframe tbody tr th:only-of-type {\n",
       "        vertical-align: middle;\n",
       "    }\n",
       "\n",
       "    .dataframe tbody tr th {\n",
       "        vertical-align: top;\n",
       "    }\n",
       "\n",
       "    .dataframe thead th {\n",
       "        text-align: right;\n",
       "    }\n",
       "</style>\n",
       "<table border=\"1\" class=\"dataframe\">\n",
       "  <thead>\n",
       "    <tr style=\"text-align: right;\">\n",
       "      <th></th>\n",
       "      <th>Team</th>\n",
       "      <th>Wins</th>\n",
       "      <th>Losses</th>\n",
       "    </tr>\n",
       "  </thead>\n",
       "  <tbody>\n",
       "    <tr>\n",
       "      <th>165267</th>\n",
       "      <td>Milwaukee</td>\n",
       "      <td>60</td>\n",
       "      <td>22</td>\n",
       "    </tr>\n",
       "  </tbody>\n",
       "</table>\n",
       "</div>"
      ],
      "text/plain": [
       "             Team  Wins  Losses\n",
       "165267  Milwaukee    60      22"
      ]
     },
     "execution_count": 46,
     "metadata": {},
     "output_type": "execute_result"
    }
   ],
   "source": [
    "df1[df1.index == 165267]"
   ]
  },
  {
   "cell_type": "raw",
   "id": "8429e440",
   "metadata": {},
   "source": [
    "games_details.groupby('city').points.sum().sort_values(ascending=False).plot.bar(figsize=(15,6))\n",
    "plt.title = (\"points\")\n",
    "plt.xlabel(\"NBA City\")\n",
    "plt.ylabel(\"Points\")\n",
    "plt.show()"
   ]
  },
  {
   "cell_type": "code",
   "execution_count": 47,
   "id": "f93f2d6c",
   "metadata": {},
   "outputs": [
    {
     "data": {
      "text/plain": [
       "Index(['Unnamed: 0', 'Team ID', 'Team Abbr', 'City', 'Player ID', 'Position',\n",
       "       'Minutes', 'Field Goals Made', 'Field Goals Attempted', 'Field Goals %',\n",
       "       '3 Pt Field Goals Made', '3 Pt Field Goals Attempted',\n",
       "       '3 Pt Field Goals %', 'Free Throws Made', 'Free Throws Attempted',\n",
       "       'Free Throws %', 'Rebounds', 'Assists', 'Personal Fouls', 'Points'],\n",
       "      dtype='object')"
      ]
     },
     "execution_count": 47,
     "metadata": {},
     "output_type": "execute_result"
    }
   ],
   "source": [
    "games_details.columns"
   ]
  },
  {
   "cell_type": "code",
   "execution_count": 48,
   "id": "5c60c79e",
   "metadata": {},
   "outputs": [
    {
     "name": "stderr",
     "output_type": "stream",
     "text": [
      "<ipython-input-48-94f21cb7de73>:5: FutureWarning: Dropping invalid columns in DataFrameGroupBy.max is deprecated. In a future version, a TypeError will be raised. Before calling .max, select only columns which should be valid for the function.\n",
      "  merged['Team ID'] = grp.max()['Team ID']\n"
     ]
    },
    {
     "data": {
      "text/html": [
       "<div>\n",
       "<style scoped>\n",
       "    .dataframe tbody tr th:only-of-type {\n",
       "        vertical-align: middle;\n",
       "    }\n",
       "\n",
       "    .dataframe tbody tr th {\n",
       "        vertical-align: top;\n",
       "    }\n",
       "\n",
       "    .dataframe thead th {\n",
       "        text-align: right;\n",
       "    }\n",
       "</style>\n",
       "<table border=\"1\" class=\"dataframe\">\n",
       "  <thead>\n",
       "    <tr style=\"text-align: right;\">\n",
       "      <th></th>\n",
       "      <th>Team ID</th>\n",
       "      <th>Personal_Fouls</th>\n",
       "      <th>Free Throws Attempted</th>\n",
       "      <th>Wins</th>\n",
       "    </tr>\n",
       "    <tr>\n",
       "      <th>Team Abbr</th>\n",
       "      <th></th>\n",
       "      <th></th>\n",
       "      <th></th>\n",
       "      <th></th>\n",
       "    </tr>\n",
       "  </thead>\n",
       "  <tbody>\n",
       "    <tr>\n",
       "      <th>ATL</th>\n",
       "      <td>1610612737</td>\n",
       "      <td>34033.0</td>\n",
       "      <td>38537.0</td>\n",
       "      <td>100206</td>\n",
       "    </tr>\n",
       "    <tr>\n",
       "      <th>BKN</th>\n",
       "      <td>1610612751</td>\n",
       "      <td>16240.0</td>\n",
       "      <td>18999.0</td>\n",
       "      <td>92247</td>\n",
       "    </tr>\n",
       "    <tr>\n",
       "      <th>NJN</th>\n",
       "      <td>1610612751</td>\n",
       "      <td>18183.0</td>\n",
       "      <td>20439.0</td>\n",
       "      <td>92247</td>\n",
       "    </tr>\n",
       "    <tr>\n",
       "      <th>BOS</th>\n",
       "      <td>1610612738</td>\n",
       "      <td>38265.0</td>\n",
       "      <td>41061.0</td>\n",
       "      <td>114642</td>\n",
       "    </tr>\n",
       "    <tr>\n",
       "      <th>CHA</th>\n",
       "      <td>1610612766</td>\n",
       "      <td>29739.0</td>\n",
       "      <td>36543.0</td>\n",
       "      <td>84393</td>\n",
       "    </tr>\n",
       "  </tbody>\n",
       "</table>\n",
       "</div>"
      ],
      "text/plain": [
       "              Team ID  Personal_Fouls  Free Throws Attempted    Wins\n",
       "Team Abbr                                                           \n",
       "ATL        1610612737         34033.0                38537.0  100206\n",
       "BKN        1610612751         16240.0                18999.0   92247\n",
       "NJN        1610612751         18183.0                20439.0   92247\n",
       "BOS        1610612738         38265.0                41061.0  114642\n",
       "CHA        1610612766         29739.0                36543.0   84393"
      ]
     },
     "execution_count": 48,
     "metadata": {},
     "output_type": "execute_result"
    }
   ],
   "source": [
    "grp = games_details.groupby('Team Abbr')\n",
    "grp2 = ranking.groupby('Team ID').Wins.sum().reset_index()\n",
    "\n",
    "merged = pd.DataFrame()\n",
    "merged['Team ID'] = grp.max()['Team ID']\n",
    "merged['Personal_Fouls'] = grp['Personal Fouls'].sum()\n",
    "merged['Free Throws Attempted'] = grp['Free Throws Attempted'].sum()\n",
    "merged.reset_index(inplace=True)\n",
    "\n",
    "merged = merged.merge(grp2, on='Team ID').set_index('Team Abbr')\n",
    "merged.head()"
   ]
  },
  {
   "cell_type": "code",
   "execution_count": 81,
   "id": "68efcf29",
   "metadata": {},
   "outputs": [
    {
     "data": {
      "text/plain": [
       "<AxesSubplot:xlabel='Team Abbr'>"
      ]
     },
     "execution_count": 81,
     "metadata": {},
     "output_type": "execute_result"
    },
    {
     "data": {
      "image/png": "[encoded data removed]",
      "text/plain": [
       "<Figure size 1080x432 with 1 Axes>"
      ]
     },
     "metadata": {
      "needs_background": "light"
     },
     "output_type": "display_data"
    }
   ],
   "source": [
    "merged.drop(columns=['Team ID','Free Throws Attempted']).sort_values('Wins',ascending=False).plot.bar(figsize=(15,6),color=['Red','Green'])"
   ]
  },
  {
   "cell_type": "code",
   "execution_count": null,
   "id": "9b4f1c5f",
   "metadata": {},
   "outputs": [],
   "source": [
    "pd.DataFrame().plot.line()"
   ]
  },
  {
   "cell_type": "code",
   "execution_count": 65,
   "id": "47208a46",
   "metadata": {},
   "outputs": [
    {
     "data": {
      "text/plain": [
       "Index(['SAS', 'HOU', 'DAL', 'GSW', 'MIA', 'DEN', 'SEA', 'OKC', 'BOS', 'UTA',\n",
       "       'CLE', 'POR', 'LAL', 'DET', 'TOR', 'CHI', 'LAC', 'MEM', 'PHX', 'IND',\n",
       "       'NOK', 'NOP', 'NOH', 'ATL', 'ORL', 'MIL', 'WAS', 'BKN', 'NJN', 'PHI',\n",
       "       'SAC', 'CHA', 'NYK', 'MIN'],\n",
       "      dtype='object', name='Team Abbr')"
      ]
     },
     "execution_count": 65,
     "metadata": {},
     "output_type": "execute_result"
    }
   ],
   "source": [
    "df.index"
   ]
  },
  {
   "cell_type": "code",
   "execution_count": null,
   "id": "b60e7622",
   "metadata": {},
   "outputs": [],
   "source": [
    "df = merged.drop(columns=['Team ID','Personal_Fouls']).sort_values('Wins',ascending=False)"
   ]
  },
  {
   "cell_type": "code",
   "execution_count": 69,
   "id": "4d005a31",
   "metadata": {},
   "outputs": [
    {
     "data": {
      "text/html": [
       "<div>\n",
       "<style scoped>\n",
       "    .dataframe tbody tr th:only-of-type {\n",
       "        vertical-align: middle;\n",
       "    }\n",
       "\n",
       "    .dataframe tbody tr th {\n",
       "        vertical-align: top;\n",
       "    }\n",
       "\n",
       "    .dataframe thead th {\n",
       "        text-align: right;\n",
       "    }\n",
       "</style>\n",
       "<table border=\"1\" class=\"dataframe\">\n",
       "  <thead>\n",
       "    <tr style=\"text-align: right;\">\n",
       "      <th></th>\n",
       "      <th>Free Throws Attempted</th>\n",
       "      <th>Wins</th>\n",
       "    </tr>\n",
       "    <tr>\n",
       "      <th>Team Abbr</th>\n",
       "      <th></th>\n",
       "      <th></th>\n",
       "    </tr>\n",
       "  </thead>\n",
       "  <tbody>\n",
       "    <tr>\n",
       "      <th>SAS</th>\n",
       "      <td>39492.0</td>\n",
       "      <td>151806</td>\n",
       "    </tr>\n",
       "    <tr>\n",
       "      <th>HOU</th>\n",
       "      <td>41779.0</td>\n",
       "      <td>131177</td>\n",
       "    </tr>\n",
       "    <tr>\n",
       "      <th>DAL</th>\n",
       "      <td>39122.0</td>\n",
       "      <td>128572</td>\n",
       "    </tr>\n",
       "    <tr>\n",
       "      <th>GSW</th>\n",
       "      <td>38927.0</td>\n",
       "      <td>124047</td>\n",
       "    </tr>\n",
       "    <tr>\n",
       "      <th>MIA</th>\n",
       "      <td>42440.0</td>\n",
       "      <td>122734</td>\n",
       "    </tr>\n",
       "    <tr>\n",
       "      <th>DEN</th>\n",
       "      <td>43846.0</td>\n",
       "      <td>121401</td>\n",
       "    </tr>\n",
       "    <tr>\n",
       "      <th>SEA</th>\n",
       "      <td>10845.0</td>\n",
       "      <td>118714</td>\n",
       "    </tr>\n",
       "    <tr>\n",
       "      <th>OKC</th>\n",
       "      <td>31115.0</td>\n",
       "      <td>118714</td>\n",
       "    </tr>\n",
       "    <tr>\n",
       "      <th>BOS</th>\n",
       "      <td>41061.0</td>\n",
       "      <td>114642</td>\n",
       "    </tr>\n",
       "    <tr>\n",
       "      <th>UTA</th>\n",
       "      <td>41848.0</td>\n",
       "      <td>114594</td>\n",
       "    </tr>\n",
       "    <tr>\n",
       "      <th>CLE</th>\n",
       "      <td>41103.0</td>\n",
       "      <td>113779</td>\n",
       "    </tr>\n",
       "    <tr>\n",
       "      <th>POR</th>\n",
       "      <td>37372.0</td>\n",
       "      <td>113528</td>\n",
       "    </tr>\n",
       "    <tr>\n",
       "      <th>LAL</th>\n",
       "      <td>43220.0</td>\n",
       "      <td>111422</td>\n",
       "    </tr>\n",
       "    <tr>\n",
       "      <th>DET</th>\n",
       "      <td>39257.0</td>\n",
       "      <td>110974</td>\n",
       "    </tr>\n",
       "    <tr>\n",
       "      <th>TOR</th>\n",
       "      <td>38937.0</td>\n",
       "      <td>110092</td>\n",
       "    </tr>\n",
       "    <tr>\n",
       "      <th>CHI</th>\n",
       "      <td>37855.0</td>\n",
       "      <td>109685</td>\n",
       "    </tr>\n",
       "    <tr>\n",
       "      <th>LAC</th>\n",
       "      <td>42130.0</td>\n",
       "      <td>108546</td>\n",
       "    </tr>\n",
       "    <tr>\n",
       "      <th>MEM</th>\n",
       "      <td>39685.0</td>\n",
       "      <td>106532</td>\n",
       "    </tr>\n",
       "    <tr>\n",
       "      <th>PHX</th>\n",
       "      <td>37669.0</td>\n",
       "      <td>106281</td>\n",
       "    </tr>\n",
       "    <tr>\n",
       "      <th>IND</th>\n",
       "      <td>39619.0</td>\n",
       "      <td>106103</td>\n",
       "    </tr>\n",
       "    <tr>\n",
       "      <th>NOK</th>\n",
       "      <td>4529.0</td>\n",
       "      <td>102380</td>\n",
       "    </tr>\n",
       "    <tr>\n",
       "      <th>NOP</th>\n",
       "      <td>16198.0</td>\n",
       "      <td>102380</td>\n",
       "    </tr>\n",
       "    <tr>\n",
       "      <th>NOH</th>\n",
       "      <td>15806.0</td>\n",
       "      <td>102380</td>\n",
       "    </tr>\n",
       "    <tr>\n",
       "      <th>ATL</th>\n",
       "      <td>38537.0</td>\n",
       "      <td>100206</td>\n",
       "    </tr>\n",
       "    <tr>\n",
       "      <th>ORL</th>\n",
       "      <td>38552.0</td>\n",
       "      <td>99091</td>\n",
       "    </tr>\n",
       "    <tr>\n",
       "      <th>MIL</th>\n",
       "      <td>38061.0</td>\n",
       "      <td>97890</td>\n",
       "    </tr>\n",
       "    <tr>\n",
       "      <th>WAS</th>\n",
       "      <td>39799.0</td>\n",
       "      <td>95898</td>\n",
       "    </tr>\n",
       "    <tr>\n",
       "      <th>BKN</th>\n",
       "      <td>18999.0</td>\n",
       "      <td>92247</td>\n",
       "    </tr>\n",
       "    <tr>\n",
       "      <th>NJN</th>\n",
       "      <td>20439.0</td>\n",
       "      <td>92247</td>\n",
       "    </tr>\n",
       "    <tr>\n",
       "      <th>PHI</th>\n",
       "      <td>38818.0</td>\n",
       "      <td>90875</td>\n",
       "    </tr>\n",
       "    <tr>\n",
       "      <th>SAC</th>\n",
       "      <td>39115.0</td>\n",
       "      <td>88622</td>\n",
       "    </tr>\n",
       "    <tr>\n",
       "      <th>CHA</th>\n",
       "      <td>36543.0</td>\n",
       "      <td>84393</td>\n",
       "    </tr>\n",
       "    <tr>\n",
       "      <th>NYK</th>\n",
       "      <td>36470.0</td>\n",
       "      <td>84299</td>\n",
       "    </tr>\n",
       "    <tr>\n",
       "      <th>MIN</th>\n",
       "      <td>38184.0</td>\n",
       "      <td>83321</td>\n",
       "    </tr>\n",
       "  </tbody>\n",
       "</table>\n",
       "</div>"
      ],
      "text/plain": [
       "           Free Throws Attempted    Wins\n",
       "Team Abbr                               \n",
       "SAS                      39492.0  151806\n",
       "HOU                      41779.0  131177\n",
       "DAL                      39122.0  128572\n",
       "GSW                      38927.0  124047\n",
       "MIA                      42440.0  122734\n",
       "DEN                      43846.0  121401\n",
       "SEA                      10845.0  118714\n",
       "OKC                      31115.0  118714\n",
       "BOS                      41061.0  114642\n",
       "UTA                      41848.0  114594\n",
       "CLE                      41103.0  113779\n",
       "POR                      37372.0  113528\n",
       "LAL                      43220.0  111422\n",
       "DET                      39257.0  110974\n",
       "TOR                      38937.0  110092\n",
       "CHI                      37855.0  109685\n",
       "LAC                      42130.0  108546\n",
       "MEM                      39685.0  106532\n",
       "PHX                      37669.0  106281\n",
       "IND                      39619.0  106103\n",
       "NOK                       4529.0  102380\n",
       "NOP                      16198.0  102380\n",
       "NOH                      15806.0  102380\n",
       "ATL                      38537.0  100206\n",
       "ORL                      38552.0   99091\n",
       "MIL                      38061.0   97890\n",
       "WAS                      39799.0   95898\n",
       "BKN                      18999.0   92247\n",
       "NJN                      20439.0   92247\n",
       "PHI                      38818.0   90875\n",
       "SAC                      39115.0   88622\n",
       "CHA                      36543.0   84393\n",
       "NYK                      36470.0   84299\n",
       "MIN                      38184.0   83321"
      ]
     },
     "execution_count": 69,
     "metadata": {},
     "output_type": "execute_result"
    }
   ],
   "source": [
    "df"
   ]
  },
  {
   "cell_type": "code",
   "execution_count": 71,
   "id": "df966b3b",
   "metadata": {},
   "outputs": [
    {
     "data": {
      "text/plain": [
       "<AxesSubplot:xlabel='Team Abbr'>"
      ]
     },
     "execution_count": 71,
     "metadata": {},
     "output_type": "execute_result"
    },
    {
     "data": {
      "image/png": "[encoded data removed]",
      "text/plain": [
       "<Figure size 1440x360 with 1 Axes>"
      ]
     },
     "metadata": {
      "needs_background": "light"
     },
     "output_type": "display_data"
    }
   ],
   "source": [
    "df.plot.line(figsize=(15,6),grid=True,use_index=True)"
   ]
  },
  {
   "cell_type": "code",
   "execution_count": 72,
   "id": "126728e5",
   "metadata": {},
   "outputs": [
    {
     "data": {
      "text/html": [
       "<div>\n",
       "<style scoped>\n",
       "    .dataframe tbody tr th:only-of-type {\n",
       "        vertical-align: middle;\n",
       "    }\n",
       "\n",
       "    .dataframe tbody tr th {\n",
       "        vertical-align: top;\n",
       "    }\n",
       "\n",
       "    .dataframe thead th {\n",
       "        text-align: right;\n",
       "    }\n",
       "</style>\n",
       "<table border=\"1\" class=\"dataframe\">\n",
       "  <thead>\n",
       "    <tr style=\"text-align: right;\">\n",
       "      <th></th>\n",
       "      <th>Free Throws Attempted</th>\n",
       "      <th>Wins</th>\n",
       "    </tr>\n",
       "    <tr>\n",
       "      <th>Team Abbr</th>\n",
       "      <th></th>\n",
       "      <th></th>\n",
       "    </tr>\n",
       "  </thead>\n",
       "  <tbody>\n",
       "    <tr>\n",
       "      <th>SAS</th>\n",
       "      <td>39492.0</td>\n",
       "      <td>151806</td>\n",
       "    </tr>\n",
       "    <tr>\n",
       "      <th>HOU</th>\n",
       "      <td>41779.0</td>\n",
       "      <td>131177</td>\n",
       "    </tr>\n",
       "    <tr>\n",
       "      <th>DAL</th>\n",
       "      <td>39122.0</td>\n",
       "      <td>128572</td>\n",
       "    </tr>\n",
       "    <tr>\n",
       "      <th>GSW</th>\n",
       "      <td>38927.0</td>\n",
       "      <td>124047</td>\n",
       "    </tr>\n",
       "    <tr>\n",
       "      <th>MIA</th>\n",
       "      <td>42440.0</td>\n",
       "      <td>122734</td>\n",
       "    </tr>\n",
       "  </tbody>\n",
       "</table>\n",
       "</div>"
      ],
      "text/plain": [
       "           Free Throws Attempted    Wins\n",
       "Team Abbr                               \n",
       "SAS                      39492.0  151806\n",
       "HOU                      41779.0  131177\n",
       "DAL                      39122.0  128572\n",
       "GSW                      38927.0  124047\n",
       "MIA                      42440.0  122734"
      ]
     },
     "execution_count": 72,
     "metadata": {},
     "output_type": "execute_result"
    }
   ],
   "source": [
    "df.head()"
   ]
  },
  {
   "cell_type": "code",
   "execution_count": 78,
   "id": "fab2ed1b",
   "metadata": {},
   "outputs": [
    {
     "data": {
      "text/plain": [
       "[<matplotlib.lines.Line2D at 0x19b16559370>]"
      ]
     },
     "execution_count": 78,
     "metadata": {},
     "output_type": "execute_result"
    },
    {
     "data": {
      "image/png": "[encoded data removed]",
      "text/plain": [
       "<Figure size 1080x432 with 1 Axes>"
      ]
     },
     "metadata": {
      "needs_background": "light"
     },
     "output_type": "display_data"
    }
   ],
   "source": [
    "plt.figure(figsize=[15,6])\n",
    "plt.grid()\n",
    "plt.plot(df.index, df.Wins)\n",
    "plt.plot(df.index, df['Free Throws Attempted'])"
   ]
  },
  {
   "cell_type": "code",
   "execution_count": null,
   "id": "6803aab7",
   "metadata": {},
   "outputs": [],
   "source": []
  },
  {
   "cell_type": "code",
   "execution_count": null,
   "id": "684a8b57",
   "metadata": {},
   "outputs": [],
   "source": []
  },
  {
   "cell_type": "code",
   "execution_count": null,
   "id": "0177cb7c",
   "metadata": {},
   "outputs": [],
   "source": []
  }
 ],
 "metadata": {
  "kernelspec": {
   "display_name": "PythonData",
   "language": "python",
   "name": "pythondata"
  },
  "language_info": {
   "codemirror_mode": {
    "name": "ipython",
    "version": 3
   },
   "file_extension": ".py",
   "mimetype": "text/x-python",
   "name": "python",
   "nbconvert_exporter": "python",
   "pygments_lexer": "ipython3",
   "version": "3.9.5"
  }
 },
 "nbformat": 4,
 "nbformat_minor": 5
}
